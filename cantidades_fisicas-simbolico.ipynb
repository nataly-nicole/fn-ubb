{
 "cells": [
  {
   "cell_type": "markdown",
   "metadata": {},
   "source": [
    "# Cantidades Físicas en Cinemática"
   ]
  },
  {
   "cell_type": "markdown",
   "metadata": {},
   "source": [
    "Supongamos un cuerpo de masa arbitraria que describe la siguiente trayectoria:\n",
    "\n",
    "$$\\vec{r}(t)=\\left(\\frac{}{}x(t)\\hat{i}+y(t)\\hat{j}\\frac{}{}\\right) [m],$$\n",
    "\n",
    "con $x(t)=t^3-32 t$ e $y(t)=5t^2+12 t$, para $t>0$.\n",
    "\n",
    "Entonces la velocidad y aceleración instántaneas están dadas por:\n",
    "\n",
    "$$\\vec{v}(t):=\\frac{d\\vec{r}}{dt}=\\left(\\frac{}{}(3t^2-32)\\hat{i}+(10t)\\hat{j}\\frac{}{}\\right)\\left[\\frac{m}{s}\\right],$$ \n",
    "\n",
    "$$\\vec{a}(t):=\\frac{d\\vec{v}}{dt}=\\left(\\frac{}{}(6t)\\hat{i}+(10)\\hat{j}\\frac{}{}\\right)\\left[\\frac{m}{s^2}\\right].$$"
   ]
  },
  {
   "cell_type": "code",
   "execution_count": 1,
   "metadata": {
    "collapsed": false
   },
   "outputs": [],
   "source": [
    "#Written by Nataly Ibarra at August 2016.\n",
    "#Licensed under Creative Commons 4.0. See http://creativecommons.org/licenses/by/4.0\n",
    "#For details contact natalynicole.ibarravera@gmail.com\n",
    "%matplotlib inline \n",
    "# Esta línea permite incrustar gráficos en el notebook\n",
    "import matplotlib.pyplot as plt # Se importa paquete que permite graficar\n",
    "import numpy as np # Se import paquete que hace cálculos numéricos\n",
    "import sympy as sp # Se importa paquete que hace cáculos simbólicos"
   ]
  },
  {
   "cell_type": "markdown",
   "metadata": {},
   "source": [
    "# Cálculo simbólico"
   ]
  },
  {
   "cell_type": "markdown",
   "metadata": {},
   "source": [
    "A continuación se realiza el cálculo de la velocidad y aceleración del cuerpo conocido su vector posición $\\vec{r}=r_{x}\\hat{i}+r_{y}\\hat{j}+r_{z}\\hat{k}$para todo tiempo $t$."
   ]
  },
  {
   "cell_type": "code",
   "execution_count": 2,
   "metadata": {
    "collapsed": false
   },
   "outputs": [],
   "source": [
    "#se definen variables simbólicas a emplear\n",
    "t = sp.Symbol('t')\n",
    "rx = sp.Function('x')(t)\n",
    "ry = sp.Function('y')(t)\n",
    "rz = sp.Function('z')(t)"
   ]
  },
  {
   "cell_type": "code",
   "execution_count": 3,
   "metadata": {
    "collapsed": false
   },
   "outputs": [],
   "source": [
    "#se definen las componentes del vector posición\n",
    "rx = t**3-32.*t\n",
    "ry = 5*t**2+12\n",
    "rz = 0*t\n",
    "#rx = 5*t\n",
    "#ry = 0*t\n",
    "#rz = 0*t\n",
    "#Si se modifican estas líneas cambiará toda la \n",
    "#dinámica que prosigue en el código!"
   ]
  },
  {
   "cell_type": "code",
   "execution_count": 4,
   "metadata": {
    "collapsed": false
   },
   "outputs": [],
   "source": [
    "#Se calcula simbólicamente las componentes de \n",
    "#la velocidad y la aceleración\n",
    "vx = rx.diff(t)\n",
    "vy = ry.diff(t)\n",
    "vz = rz.diff(t)\n",
    "ax = vx.diff(t)\n",
    "ay = vy.diff(t)\n",
    "az = vz.diff(t)"
   ]
  },
  {
   "cell_type": "code",
   "execution_count": 5,
   "metadata": {
    "collapsed": false
   },
   "outputs": [
    {
     "name": "stdout",
     "output_type": "stream",
     "text": [
      "======================================================================\n",
      "Evolución de cantidades dinámicas:\n",
      "rx(t) = t**3 - 32.0*t\n",
      "ry(t) = 5*t**2 + 12\n",
      "rz(t) = 0\n",
      "vx(t) = 3*t**2 - 32.0\n",
      "vy(t) = 10*t\n",
      "vz(t) = 0\n",
      "ax(t) = 6*t\n",
      "ay(t) = 10\n",
      "az(t) = 0\n",
      "======================================================================\n"
     ]
    }
   ],
   "source": [
    "#Se imprimen las cantidades dinámicas\n",
    "print(70*'=')\n",
    "print('Evolución de cantidades dinámicas:')\n",
    "print('rx(t) =',rx)\n",
    "print('ry(t) =',ry)\n",
    "print('rz(t) =',rz)\n",
    "print('vx(t) =',vx)\n",
    "print('vy(t) =',vy)\n",
    "print('vz(t) =',vz)\n",
    "print('ax(t) =',ax)\n",
    "print('ay(t) =',ay)\n",
    "print('az(t) =',az)\n",
    "print(70*'=')"
   ]
  },
  {
   "cell_type": "markdown",
   "metadata": {},
   "source": [
    "# Cálculo Numérico"
   ]
  },
  {
   "cell_type": "markdown",
   "metadata": {},
   "source": [
    "A continuación se sustituye la variable \"simbólica\" $t$ por una numérica $tt$ y se \"vectoriza\" cada una de las cantidades dinámicas para que puedan ser evaluadas por arreglos numéricos de $tt$."
   ]
  },
  {
   "cell_type": "code",
   "execution_count": 6,
   "metadata": {
    "collapsed": false
   },
   "outputs": [],
   "source": [
    "def fn(fa,tt):\n",
    "    return fa.subs(t,tt)\n",
    "fv = np.vectorize(fn)\n",
    "def gn(t):\n",
    "    return [fv(rx,t),fv(ry,t),fv(rz,t),\n",
    "            fv(vx,t),fv(vy,t),fv(vz,t),\n",
    "           fv(ax,t),fv(ay,t),fv(az,t)]"
   ]
  },
  {
   "cell_type": "code",
   "execution_count": 7,
   "metadata": {
    "collapsed": false
   },
   "outputs": [
    {
     "name": "stdout",
     "output_type": "stream",
     "text": [
      "======================================================================\n",
      "Condiciones iniciales:\n",
      "r0 = 0xi + 12xj + 0xk\n",
      "v0 = -32xi + 0xj + 0xk\n",
      "a0 = 0xi + 10xj + 0xk\n",
      "======================================================================\n"
     ]
    }
   ],
   "source": [
    "#Se evalúan  las cantidades dinámicas\n",
    "#para t = 0 y para un arreglo con t en [-1,1]\n",
    "x0,y0,z0,vx0,vy0,vz0,ax0,ay0,az0 = gn(0) #cantidades con t=0\n",
    "print(70*'=')\n",
    "print('Condiciones iniciales:')\n",
    "print('r0 = %dxi + %dxj + %dxk'%(x0,y0,z0))\n",
    "print('v0 = %dxi + %dxj + %dxk'%(vx0,vy0,vz0))\n",
    "print('a0 = %dxi + %dxj + %dxk'%(ax0,ay0,az0))\n",
    "print(70*'=')\n",
    "tt = np.linspace(-10,10,100)\n",
    "rrx,rry,rrz,vvx,vvy,vvz,aax,aay,aaz = gn(tt) #cantidades con t en [-1,1]"
   ]
  },
  {
   "cell_type": "code",
   "execution_count": 8,
   "metadata": {
    "collapsed": false
   },
   "outputs": [
    {
     "data": {
      "text/plain": [
       "<matplotlib.legend.Legend at 0x7fbcc71bfa20>"
      ]
     },
     "execution_count": 8,
     "metadata": {},
     "output_type": "execute_result"
    },
    {
     "data": {
      "image/png": "[encoded data removed]",
      "text/plain": [
       "<matplotlib.figure.Figure at 0x7fbcc72e95f8>"
      ]
     },
     "metadata": {},
     "output_type": "display_data"
    }
   ],
   "source": [
    "#Se dibujan coordenadas v/s tiempo\n",
    "plt.figure(figsize=(6,6))\n",
    "plt.plot(tt,rrx,label='$x(t)$')\n",
    "plt.plot(tt,rry,label='$y(t)$')\n",
    "plt.title(u'Posición',fontsize=18)\n",
    "plt.xlabel('$t$ [s]',fontsize=18)\n",
    "plt.ylabel('$x(t)$, $y(t)$ [m]',fontsize=18)\n",
    "plt.grid()\n",
    "plt.legend()"
   ]
  },
  {
   "cell_type": "code",
   "execution_count": 9,
   "metadata": {
    "collapsed": false
   },
   "outputs": [
    {
     "data": {
      "text/plain": [
       "<matplotlib.legend.Legend at 0x7fbcc3fbb0f0>"
      ]
     },
     "execution_count": 9,
     "metadata": {},
     "output_type": "execute_result"
    },
    {
     "data": {
      "image/png": "[encoded data removed]",
      "text/plain": [
       "<matplotlib.figure.Figure at 0x7fbcc401dbe0>"
      ]
     },
     "metadata": {},
     "output_type": "display_data"
    }
   ],
   "source": [
    "#Se dibujan componentes de velocidad v/s tiempo\n",
    "plt.figure(figsize=(6,6))\n",
    "plt.plot(tt,vvx,label='$v_{x}(t)$')\n",
    "plt.plot(tt,vvy,label='$v_{y}(t)$')\n",
    "plt.title(u'Velocidad',fontsize=18)\n",
    "plt.xlabel('$t$ [$s$]',fontsize=18)\n",
    "plt.ylabel(r'$v_{x}(t)$, $v_{y}(t)$ [$ \\frac{m}{s}$]',fontsize=18)\n",
    "plt.grid()\n",
    "plt.legend()"
   ]
  },
  {
   "cell_type": "code",
   "execution_count": 10,
   "metadata": {
    "collapsed": false
   },
   "outputs": [
    {
     "data": {
      "text/plain": [
       "<matplotlib.legend.Legend at 0x7fbcc3e41940>"
      ]
     },
     "execution_count": 10,
     "metadata": {},
     "output_type": "execute_result"
    },
    {
     "data": {
      "image/png": "[encoded data removed]",
      "text/plain": [
       "<matplotlib.figure.Figure at 0x7fbcc401a128>"
      ]
     },
     "metadata": {},
     "output_type": "display_data"
    }
   ],
   "source": [
    "#Se dibujan componentes de aceleración v/s tiempo\n",
    "plt.figure(figsize=(6,6))\n",
    "plt.plot(tt,aax,label='$a_{x}(t)$')\n",
    "plt.plot(tt,aay,label='$a_{y}(t)$')\n",
    "plt.title(u'Aceleración',fontsize=18)\n",
    "plt.xlabel('$t$ [$s$]',fontsize=18)\n",
    "plt.ylabel(r'$a_{x}(t)$, $a_{y}(t)$ [$ \\frac{m}{s^2}$]',fontsize=18)\n",
    "plt.grid()\n",
    "plt.legend()"
   ]
  },
  {
   "cell_type": "markdown",
   "metadata": {},
   "source": [
    "# Animación"
   ]
  },
  {
   "cell_type": "markdown",
   "metadata": {},
   "source": [
    "A continuación se muestra una animación de lo sucedido."
   ]
  },
  {
   "cell_type": "code",
   "execution_count": 11,
   "metadata": {
    "collapsed": false
   },
   "outputs": [
    {
     "data": {
      "application/javascript": [
       "require.undef(\"nbextensions/jquery-ui.custom.min\");"
      ],
      "text/plain": [
       "<IPython.core.display.Javascript object>"
      ]
     },
     "metadata": {},
     "output_type": "display_data"
    },
    {
     "data": {
      "application/javascript": [
       "require.undef(\"nbextensions/glow.2.1.min\");"
      ],
      "text/plain": [
       "<IPython.core.display.Javascript object>"
      ]
     },
     "metadata": {},
     "output_type": "display_data"
    },
    {
     "data": {
      "application/javascript": [
       "require.undef(\"nbextensions/glowcomm\");"
      ],
      "text/plain": [
       "<IPython.core.display.Javascript object>"
      ]
     },
     "metadata": {},
     "output_type": "display_data"
    },
    {
     "data": {
      "application/javascript": [
       "require.undef(\"nbextensions/pako.min\");"
      ],
      "text/plain": [
       "<IPython.core.display.Javascript object>"
      ]
     },
     "metadata": {},
     "output_type": "display_data"
    },
    {
     "data": {
      "application/javascript": [
       "require.undef(\"nbextensions/pako_deflate.min\");"
      ],
      "text/plain": [
       "<IPython.core.display.Javascript object>"
      ]
     },
     "metadata": {},
     "output_type": "display_data"
    },
    {
     "data": {
      "application/javascript": [
       "require.undef(\"nbextensions/pako_inflate.min\");"
      ],
      "text/plain": [
       "<IPython.core.display.Javascript object>"
      ]
     },
     "metadata": {},
     "output_type": "display_data"
    },
    {
     "data": {
      "application/javascript": [
       "require([\"nbextensions/glowcomm\"], function(){console.log(\"glowcomm loaded\");})"
      ],
      "text/plain": [
       "<IPython.core.display.Javascript object>"
      ]
     },
     "metadata": {},
     "output_type": "display_data"
    },
    {
     "data": {
      "text/html": [
       "<div id=\"glowscript\" class=\"glowscript\"></div>"
      ],
      "text/plain": [
       "<IPython.core.display.HTML object>"
      ]
     },
     "metadata": {},
     "output_type": "display_data"
    },
    {
     "data": {
      "application/javascript": [
       "window.__context = { glowscript_container: $(\"#glowscript\").removeAttr(\"id\")}"
      ],
      "text/plain": [
       "<IPython.core.display.Javascript object>"
      ]
     },
     "metadata": {},
     "output_type": "display_data"
    }
   ],
   "source": [
    "from __future__ import print_function, division\n",
    "import vpython as vp"
   ]
  },
  {
   "cell_type": "code",
   "execution_count": 12,
   "metadata": {
    "collapsed": false
   },
   "outputs": [],
   "source": [
    "#Se configura la escena de la animación\n",
    "vp.scene.title = (\"Trayectoria del cuerpo\")\n",
    "vp.scene.background = vp.color.white\n",
    "vp.scene.width = 500\n",
    "vp.scene.height = 500\n",
    "#\n",
    "#Se dibuja SC con el que se trabajará\n",
    "lenght_axis = 70\n",
    "shaftwidth = 1\n",
    "xaxis = vp.arrow(color=vp.color.black, pos=vp.vector(0,0,0), axis=lenght_axis*vp.vector(1,0,0), shaftwidth=shaftwidth)\n",
    "xlabel = vp.label(pos=vp.vector(lenght_axis+0.1,0,0), text=\"X\", color=vp.color.black, opacity=0, height=20, box=0)\n",
    "yaxis = vp.arrow(color=vp.color.black, pos=vp.vector(0,0,0), axis=lenght_axis*vp.vector(0,1,0), shaftwidth=shaftwidth)\n",
    "ylabel = vp.label(pos=vp.vector(0,lenght_axis+0.1,0), text=\"Y\", color=vp.color.black, opacity=0, height=20, box=0)\n",
    "zaxis = vp.arrow(color=vp.color.black, pos=vp.vector(0,0,0), axis=lenght_axis*vp.vector(0,0,1), shaftwidth=shaftwidth)\n",
    "xlabel= vp.label(pos=vp.vector(0,0,lenght_axis+0.1), text=\"Z\", color=vp.color.black, opacity=0, height=20, box=0)"
   ]
  },
  {
   "cell_type": "code",
   "execution_count": 13,
   "metadata": {
    "collapsed": false
   },
   "outputs": [],
   "source": [
    "#Se dibujan cantidades físicas a animar\n",
    "r_vector = vp.vector(x0,y0,z0)\n",
    "r_axis = vp.arrow(pos=vp.vector(0,0,0), axis = r_vector, color=vp.color.red, shaftwidth=shaftwidth)\n",
    "r_label = vp.label(pos=r_vector+5*r_vector/r_vector.mag, text=\"r\", color=r_axis.color, opacity=0, height=30, box=0)\n",
    "v_vector = vp.vector(vx0,vy0,z0)\n",
    "v_axis = vp.arrow(pos=r_vector, axis = v_vector, color=vp.color.green, shaftwidth=shaftwidth)\n",
    "v_label= vp.label(pos=r_vector+v_axis.axis+5*v_vector/v_vector.mag, text=\"v\", color=v_axis.color, opacity=0, height=30, box=0)\n",
    "a_vector = vp.vector(ax0,ay0,az0)\n",
    "a_axis = vp.arrow(pos=r_vector, axis = a_vector, color=vp.color.blue, shaftwidth=shaftwidth)\n",
    "a_label = vp.label(pos=r_vector+a_axis.axis+5*a_vector/a_vector.mag, text=\"a\", color=a_axis.color, opacity=0, height=30, box=0)\n",
    "t_label = vp.label(pos=r_vector+15*r_vector/r_vector.mag, text=\"t = 0 [s]\", color=vp.color.black, opacity=0, height=20, box=0)"
   ]
  },
  {
   "cell_type": "markdown",
   "metadata": {},
   "source": [
    "Notar como $\\vec{v}(t)$ es tangente a la trayectoria en todo punto!"
   ]
  },
  {
   "cell_type": "code",
   "execution_count": 14,
   "metadata": {
    "collapsed": false
   },
   "outputs": [],
   "source": [
    "#Se hace evolucionar la animación\n",
    "tt = np.linspace(0,10,1000)\n",
    "for ti in tt:\n",
    "    vp.rate(50)\n",
    "    rxi,ryi,rzi,vxi,vyi,vzi,axi,ayi,azi = gn(ti)\n",
    "    t_label.text = \"t = %d [s]\"%ti\n",
    "    t_label.pos = r_vector+15*r_vector/r_vector.mag\n",
    "    r_vector = vp.vector(rxi,ryi,rzi)\n",
    "    v_vector = vp.vector(vxi,vyi,vzi)\n",
    "    a_vector = vp.vector(axi,ayi,azi)\n",
    "    r_axis.axis = r_vector\n",
    "    v_axis.pos = r_vector\n",
    "    v_axis.axis = v_vector\n",
    "    a_axis.pos = r_vector\n",
    "    a_axis.axis = a_vector\n",
    "    r_label.pos = r_vector+5*r_vector/r_vector.mag\n",
    "    v_label.pos = r_vector+v_axis.axis+5*v_vector/v_vector.mag\n",
    "    a_label.pos = r_vector+a_axis.axis+5*a_vector/a_vector.mag\n",
    "    vp.sphere(pos=r_vector, radius=0.5, color=r_axis.color)"
   ]
  },
  {
   "cell_type": "code",
   "execution_count": null,
   "metadata": {
    "collapsed": true
   },
   "outputs": [],
   "source": []
  },
  {
   "cell_type": "code",
   "execution_count": null,
   "metadata": {
    "collapsed": true
   },
   "outputs": [],
   "source": []
  }
 ],
 "metadata": {
  "anaconda-cloud": {},
  "kernelspec": {
   "display_name": "VPython",
   "language": "python",
   "name": "vpython"
  },
  "language_info": {
   "codemirror_mode": {
    "name": "ipython",
    "version": 3
   },
   "file_extension": ".py",
   "mimetype": "text/x-python",
   "name": "python",
   "nbconvert_exporter": "python",
   "pygments_lexer": "ipython3",
   "version": "3.5.2"
  }
 },
 "nbformat": 4,
 "nbformat_minor": 0
}
