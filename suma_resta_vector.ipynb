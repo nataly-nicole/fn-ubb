{
 "cells": [
  {
   "cell_type": "markdown",
   "metadata": {},
   "source": [
    "# Suma de Vectores"
   ]
  },
  {
   "cell_type": "markdown",
   "metadata": {},
   "source": [
    "$\\vec{c}_{\\pm}=\\vec{a}\\pm \\vec{b}$"
   ]
  },
  {
   "cell_type": "code",
   "execution_count": 1,
   "metadata": {
    "collapsed": false
   },
   "outputs": [
    {
     "data": {
      "application/javascript": [
       "require.undef(\"nbextensions/jquery-ui.custom.min\");"
      ],
      "text/plain": [
       "<IPython.core.display.Javascript object>"
      ]
     },
     "metadata": {},
     "output_type": "display_data"
    },
    {
     "data": {
      "application/javascript": [
       "require.undef(\"nbextensions/glow.2.1.min\");"
      ],
      "text/plain": [
       "<IPython.core.display.Javascript object>"
      ]
     },
     "metadata": {},
     "output_type": "display_data"
    },
    {
     "data": {
      "application/javascript": [
       "require.undef(\"nbextensions/glowcomm\");"
      ],
      "text/plain": [
       "<IPython.core.display.Javascript object>"
      ]
     },
     "metadata": {},
     "output_type": "display_data"
    },
    {
     "data": {
      "application/javascript": [
       "require.undef(\"nbextensions/pako.min\");"
      ],
      "text/plain": [
       "<IPython.core.display.Javascript object>"
      ]
     },
     "metadata": {},
     "output_type": "display_data"
    },
    {
     "data": {
      "application/javascript": [
       "require.undef(\"nbextensions/pako_deflate.min\");"
      ],
      "text/plain": [
       "<IPython.core.display.Javascript object>"
      ]
     },
     "metadata": {},
     "output_type": "display_data"
    },
    {
     "data": {
      "application/javascript": [
       "require.undef(\"nbextensions/pako_inflate.min\");"
      ],
      "text/plain": [
       "<IPython.core.display.Javascript object>"
      ]
     },
     "metadata": {},
     "output_type": "display_data"
    },
    {
     "data": {
      "application/javascript": [
       "require([\"nbextensions/glowcomm\"], function(){console.log(\"glowcomm loaded\");})"
      ],
      "text/plain": [
       "<IPython.core.display.Javascript object>"
      ]
     },
     "metadata": {},
     "output_type": "display_data"
    },
    {
     "data": {
      "text/html": [
       "<div id=\"glowscript\" class=\"glowscript\"></div>"
      ],
      "text/plain": [
       "<IPython.core.display.HTML object>"
      ]
     },
     "metadata": {},
     "output_type": "display_data"
    },
    {
     "data": {
      "application/javascript": [
       "window.__context = { glowscript_container: $(\"#glowscript\").removeAttr(\"id\")}"
      ],
      "text/plain": [
       "<IPython.core.display.Javascript object>"
      ]
     },
     "metadata": {},
     "output_type": "display_data"
    }
   ],
   "source": [
    "from __future__ import print_function, division\n",
    "#from visual import *\n",
    "import vpython as vp\n",
    "import numpy as np\n",
    "# Written by Ruth Chabay, licensed under Creative Commons 4.0.\n",
    "# All uses permitted, but you must not claim that you wrote it, and\n",
    "# you must include this license information in any copies you make.\n",
    "# For details see http://creativecommons.org/licenses/by/4.0\n",
    "\n",
    "#Demonstration of vectorial sum \n",
    "#New version by Nataly Ibarra at August 2016.\n",
    "#For more details about release contact natalynicole.ibarravera@gmail.com"
   ]
  },
  {
   "cell_type": "code",
   "execution_count": 2,
   "metadata": {
    "collapsed": false
   },
   "outputs": [],
   "source": [
    "#Se configura la escena de la animación\n",
    "vp.scene.background = vp.color.white\n",
    "vp.scene.title = (\"Suma Vectorial: Verde = Amarillo + Azul\"+\n",
    "\"\\n Resta Vectorial: Red = Amarillo - Azul\"+\n",
    "\"\\n Arrastrar para modificar el vector verde\"+\n",
    "\"\\n Cliquee para cambiar el ángulo o la longitud\")\n",
    "vp.scene.width = 600\n",
    "vp.scene.height = 600\n",
    "#\n",
    "center = vp.sphere(pos=vp.vector(0,0,0), radius=0.6, color=vp.color.white)\n",
    "label_x = vp.label(pos=vp.vector(0,-11,0), text=\"x\",yoffset=-5, opacity=0, box=0, line=0, color=vp.color.black)\n",
    "label_y = vp.label(pos=vp.vector(-11,1,0), text=\"y\",yoffset=-5, opacity=0, box=0, line=0, color=vp.color.black)\n",
    "#Se genera la grilla en que se trabajará\n",
    "for i in np.arange(-10,11):\n",
    "    line_v = vp.curve(pos=[vp.vector(i,-10,0),vp.vector(i,10,0)],radius=0.1, color=vp.color.black)\n",
    "    labels_x = vp.label(pos=vp.vector(i,-12,0), text=\"%d\"%i,yoffset=-5, opacity=0, box=0, line=0, color=vp.color.black)\n",
    "    line_h = vp.curve(pos=[vp.vector(-10,i,0),vp.vector(10,i,0)],radius=0.1, color=vp.color.black)\n",
    "    labels_y = vp.label(pos=vp.vector(-12,i+1,0), text=\"%d\"%i,yoffset=-5, opacity=0, box=0, line=0, color=vp.color.black)"
   ]
  },
  {
   "cell_type": "code",
   "execution_count": 3,
   "metadata": {
    "collapsed": false
   },
   "outputs": [],
   "source": [
    "#Dibujando esferas de interactividad\n",
    "s_theta = vp.sphere(pos=vp.vector(-15,-15,0), radius=0.6, color=vp.color.red)\n",
    "s_theta_label = vp.label(pos=s_theta.pos, text=\"Ángulo fijo\", yoffset=-5, opacity=0, box=0, line=0, color=vp.color.black)\n",
    "s_length = vp.sphere(pos=vp.vector(15,-15,0), radius=0.6, color=vp.color.red)\n",
    "s_length_label = vp.label(pos=s_length.pos, text=\"Longitud fija\", yoffset=-5, opacity=0, box=0, line=0, color=vp.color.black)\n",
    "s_text = vp.label(pos=vp.vector(0,12,0), text=\"Verde = Amarillo + Azul\"+\"\\n Red = Amarillo - Azul\", opacity=0, box=0, line=0, color=vp.color.black)"
   ]
  },
  {
   "cell_type": "code",
   "execution_count": 4,
   "metadata": {
    "collapsed": false
   },
   "outputs": [],
   "source": [
    "fixlength = False\n",
    "fixtheta = False\n",
    "\n",
    "avector = vp.vector(0,-4,0) #Se define primer vector de la suma\n",
    "bvector = vp.vector(5,-3,0) #Se define segundo vector de la suma\n",
    "#Se dibuja vectores a sumar\n",
    "R = 0.4 #Se define el ancho de las flechas a dibujar\n",
    "a = vp.arrow(pos=vp.vector(0,0,0), axis=avector, shaftwidth=R, color=vp.color.yellow)\n",
    "#alabel = vp.label(pos=a.axis+avector/avector.mag, text=\"a\", yoffset=-5, opacity=0, box=0, line=0, color=a.color)\n",
    "alabel = vp.label(pos=avector+1.5*avector/avector.mag, text=\"a\", yoffset=-5, opacity=0, box=0, line=0, color=a.color)\n",
    "b = vp.arrow(pos=vp.vector(0,0,0), axis=bvector, shaftwidth=R, color=vp.color.blue)\n",
    "#blabel = vp.label(pos=b.pos+b.axis+bvector/bvector.mag, text=\"b\", yoffset=-5, opacity=0, box=0, line=0, color=b.color)\n",
    "blabel = vp.label(pos=bvector+1.5*bvector/bvector.mag, text=\"b\", yoffset=-5, opacity=0, box=0, line=0, color=b.color)"
   ]
  },
  {
   "cell_type": "code",
   "execution_count": 5,
   "metadata": {
    "collapsed": false
   },
   "outputs": [],
   "source": [
    "#Se dibuja vectores paralelos a \"a\" y \"b\" para formar paralelogramo\n",
    "paralell_a = vp.arrow(pos=bvector,axis=avector, shaftwidth=R, color=a.color)\n",
    "paralell_b = vp.arrow(pos=a.pos+a.axis,axis=bvector,shaftwidth=R, color=b.color)"
   ]
  },
  {
   "cell_type": "code",
   "execution_count": 6,
   "metadata": {
    "collapsed": false
   },
   "outputs": [],
   "source": [
    "c1vector = avector+bvector #Se define el vector suma\n",
    "c1 = vp.arrow(pos=vp.vector(0,0,0), axis=c1vector, shaftwidth=R, color=vp.color.green)\n",
    "c1label = vp.label(pos=c1vector+1.5*c1vector/c1vector.mag, text=\"c +\", yoffset=-5, opacity=0, box=0, line=0, color=c1.color)\n",
    "c2vector = avector-bvector #se define el vector diferencia\n",
    "c2 = vp.arrow(pos=bvector, axis=c2vector, shaftwidth=R, color=vp.color.red)\n",
    "c2label = vp.label(pos=c2vector+1.5*c2vector/c2vector.mag, text=\"c -\", yoffset=-5, opacity=0, box=0, line=0, color=c2.color)"
   ]
  },
  {
   "cell_type": "code",
   "execution_count": 7,
   "metadata": {
    "collapsed": false
   },
   "outputs": [],
   "source": [
    "#Se traslada vector diferencia al con comienzo en el origen del SC\n",
    "paralell_c2 = vp.arrow(pos=vp.vector(0,0,0),axis=c2vector,shaftwidth=R, color=c2.color)"
   ]
  },
  {
   "cell_type": "code",
   "execution_count": null,
   "metadata": {
    "collapsed": false
   },
   "outputs": [],
   "source": [
    "#Estas líneas de código proporcionan la interactividad de la animación\n",
    "vp.scene.autoscale = False\n",
    "\n",
    "def set_labels():\n",
    "    if fixtheta:\n",
    "        s_theta_label.text = 'Ángulo no fijo'\n",
    "        s_theta.color = vp.color.red\n",
    "    else:\n",
    "        s_theta_label.text = 'Ángulo fijo'\n",
    "        s_theta.color = vp.color.blue\n",
    "    if fixlength:\n",
    "        s_length_label.text = 'Largo no fijo'\n",
    "        s_length.color = vp.color.red\n",
    "    else:\n",
    "        s_length_label.text = 'Largo fijo'\n",
    "        s_length.color = vp.color.blue\n",
    "\n",
    "drag = False\n",
    "obs = None\n",
    "def mouse_event(ev):\n",
    "    global drag, fixtheta, fixlength, obs\n",
    "    if ev.event == 'mousedown':\n",
    "        m = vp.scene.mouse.pick\n",
    "        if m:\n",
    "            if m is s_length:\n",
    "                if fixtheta:\n",
    "                    fixtheta = not fixtheta\n",
    "                fixlength = not fixlength\n",
    "            elif m is s_theta:\n",
    "                if fixlength:\n",
    "                    fixlength = not fixlength\n",
    "                fixtheta = not fixtheta\n",
    "            elif m is s_showvector:\n",
    "                c.visible = not c.visible\n",
    "            set_labels()\n",
    "        else:\n",
    "            drag = True\n",
    "            obs = None\n",
    "    elif ev.event == 'mouseup':\n",
    "        drag = False\n",
    "\n",
    "vp.scene.bind('mousedown mouseup', mouse_event)\n",
    "\n",
    "while True:\n",
    "    vp.rate(50)\n",
    "    if drag:\n",
    "        newobs = vp.scene.mouse.project(normal=vp.vector(0,0,1), d=0)\n",
    "        if newobs and (newobs != obs):\n",
    "            obs = newobs\n",
    "            if not fixlength and not fixtheta:\n",
    "                bvector = obs\n",
    "                if bvector.mag > 20:\n",
    "                    bvector = bvector*(20/bvector.mag)\n",
    "                b.axis = bvector\n",
    "            elif fixlength:\n",
    "                length = 3.9\n",
    "                bvector = length*norm(obs)\n",
    "                b.axis = bvector\n",
    "            elif fixtheta:\n",
    "                length = mag(obs)\n",
    "                bvector = length*norm(vp.vector(0, 1, 0))\n",
    "                b.axis = bvector\n",
    "                \n",
    "            c1vector = avector+b.axis\n",
    "            c1.axis = c1vector\n",
    "            c2vector = avector-b.axis\n",
    "            c2.pos = bvector\n",
    "            c2.axis = c2vector\n",
    "            paralell_a.pos = bvector \n",
    "            paralell_a.axis = avector\n",
    "            paralell_b.pos = a.pos+a.axis \n",
    "            paralell_b.axis = bvector\n",
    "            paralell_c2.axis = c2vector\n",
    "            alabel.pos = avector+1.5*avector/avector.mag\n",
    "            blabel.pos = bvector+1.5*bvector/bvector.mag\n",
    "            c1label.pos = c1vector+1.5*c1vector/c1vector.mag\n",
    "            c2label.pos = c2vector+1.5*c2vector/c2vector.mag"
   ]
  },
  {
   "cell_type": "code",
   "execution_count": null,
   "metadata": {
    "collapsed": true
   },
   "outputs": [],
   "source": []
  }
 ],
 "metadata": {
  "anaconda-cloud": {},
  "kernelspec": {
   "display_name": "VPython",
   "language": "python",
   "name": "vpython"
  },
  "language_info": {
   "codemirror_mode": {
    "name": "ipython",
    "version": 2
   },
   "file_extension": ".py",
   "mimetype": "text/x-python",
   "name": "python",
   "nbconvert_exporter": "python",
   "pygments_lexer": "ipython2",
   "version": "2.7.12"
  }
 },
 "nbformat": 4,
 "nbformat_minor": 0
}
